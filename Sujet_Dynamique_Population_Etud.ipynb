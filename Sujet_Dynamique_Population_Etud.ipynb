{
 "cells": [
  {
   "cell_type": "code",
   "execution_count": 1,
   "metadata": {},
   "outputs": [],
   "source": [
    "%matplotlib inline     \n",
    "# ^Sans animations\n",
    "# %matplotlib notebook \n",
    "# ^Avec animations\n",
    "import numpy as np\n",
    "import matplotlib.pyplot as plt\n",
    "from matplotlib import animation"
   ]
  },
  {
   "cell_type": "markdown",
   "metadata": {},
   "source": [
    "# Dynamique de population et Génétique"
   ]
  },
  {
   "cell_type": "markdown",
   "metadata": {},
   "source": [
    "*Sujet d'ARE Dynamic 2019*"
   ]
  },
  {
   "cell_type": "markdown",
   "metadata": {},
   "source": [
    "# 1. Modèle de Galton-Watson "
   ]
  },
  {
   "cell_type": "markdown",
   "metadata": {},
   "source": [
    "[Francis Galton](https://fr.wikipedia.org/wiki/Francis_Galton) (1822-1911) est un scientifique anglais touche-à-tout, ayant des contributions de l'anthropologie à la psychologie en passant par les statistiques. Il consacre une part importante de ses recherches à défendre la théorie de l'évolution de son cousin, Charles Darwin. Il est considéré comme l'un des fondateurs de la biométrie, il découvre l'identification par empreintes digitales, cependant il est aussi l'un des fondateurs de l'[eugénisme](https://fr.wikipedia.org/wiki/Eug%C3%A9nisme) et soutient des politiques publiques peu glorieuses. \n",
    "\n",
    "Au cours du XIXème siècle il s'intéresse à la disparition des patronymes. Pour ce faire, il introduit le [modèle de Galton-Watson](https://fr.wikipedia.org/wiki/Processus_de_Galton-Watson) permettant de modéliser la dynamique d'une population. Introduit une première fois en 1845 par [Irénée-Jules Bienaymé](https://fr.wikipedia.org/wiki/Ir%C3%A9n%C3%A9e-Jules_Bienaym%C3%A9).\n",
    "\n",
    "### Comment modéliser un tel phénomène ?\n",
    "\n",
    "Considérons un ensemble d'**individus** formant une **population**. Par soucis de simplicité nous faisons abstraction des modalités de reproduction, couple, genre, etc...  \n",
    "Chaque individu de la population est modélisé par une **variable** $X$ représentant sa capacité de reproduction, c'est-à-dire son nombre de descendants.  \n",
    "Chaque individu de la population peut avoir $k$ descendants avec probabilité $p_k$ : $\\mathbb{P}(X = k) = p_k$ avec $\\sum_k p_k =1$.  "
   ]
  },
  {
   "cell_type": "markdown",
   "metadata": {},
   "source": [
    "Commençons par modéliser un individu : la variable $X$."
   ]
  },
  {
   "cell_type": "code",
   "execution_count": 2,
   "metadata": {},
   "outputs": [],
   "source": [
    "# Dictionnaire représentant la distribution de probabilité des descendants.\n",
    "# clef = nombre de descendants et valeur = probabilité\n",
    "p = {0 : 0.5,\n",
    "     1 : 0.2,\n",
    "     2 : 0.2,\n",
    "     3 : 0.1}\n",
    "\n",
    "# Let's assert that this is a probalitiy distribution:\n",
    "np.testing.assert_almost_equal(sum(p.values()),1)"
   ]
  },
  {
   "cell_type": "code",
   "execution_count": 3,
   "metadata": {},
   "outputs": [],
   "source": [
    "def number_of_descendants(p):\n",
    "    '''\n",
    "    dict[int:float]->int\n",
    "    Étant donnée une distibution de probabilité 'p', la fonction retourne le nombre de descendants d'un individu.\n",
    "    '''\n",
    "    u = np.random.random()\n",
    "    s = 0\n",
    "    for k in p.keys():\n",
    "        s += p[k]\n",
    "        if u < s:\n",
    "            return k"
   ]
  },
  {
   "cell_type": "markdown",
   "metadata": {},
   "source": [
    "**Question 1.1 :** Remplacer la distribution $p$ par une distribution qui vous semble cohérente, puis tester cette fonction. (Par exemple, vous pourrez tirer un certain nombre de fois un nombre de descendants selon cette fonction, puis vérifier que la distribution observée est conforme.)"
   ]
  },
  {
   "cell_type": "code",
   "execution_count": 4,
   "metadata": {},
   "outputs": [],
   "source": [
    "# Testez la fonction 'number_of_descendants' ici"
   ]
  },
  {
   "cell_type": "code",
   "execution_count": 5,
   "metadata": {},
   "outputs": [
    {
     "data": {
      "text/plain": [
       "2"
      ]
     },
     "execution_count": 5,
     "metadata": {},
     "output_type": "execute_result"
    }
   ],
   "source": [
    "number_of_descendants(p)"
   ]
  },
  {
   "cell_type": "markdown",
   "metadata": {},
   "source": [
    "Modélisons maintenant cette population et son évolution au fil des générations.  \n",
    "Soit $Z_n$ la population de la n-ème génération. $Z_{n+1} = \\sum_{i=1}^{Z_n}X$."
   ]
  },
  {
   "cell_type": "code",
   "execution_count": 6,
   "metadata": {},
   "outputs": [
    {
     "name": "stdout",
     "output_type": "stream",
     "text": [
      "44\n"
     ]
    }
   ],
   "source": [
    "\n",
    "def update_population(Z,p):\n",
    "    '''\n",
    "    int*dict[int:float]->int\n",
    "    Étant donnés un nombre d'individus 'C' et une distibution de probabilité de descendants 'p',\n",
    "    la fonction retourne le nombre d'individus à la prochaine génération.\n",
    "    '''\n",
    "    Z_new = 0\n",
    "    for k in range(Z):\n",
    "        #sum up all the descendants over all the population Z\n",
    "        Z_new += number_of_descendants(p)\n",
    "    return Z_new\n",
    "\n",
    "Z=56\n",
    "p={0 : 0.5,\n",
    "   1 : 0.2,\n",
    "   2 : 0.2,\n",
    "   3 : 0.1}\n",
    "print(update_population(Z,p))\n",
    "\n"
   ]
  },
  {
   "cell_type": "markdown",
   "metadata": {},
   "source": [
    "**Question 1.2 :** Compléter la fonction \"population_n_generations\" ci-dessous qui, étant donné un nombre d'invidus de départ $Z_0$, une distribution de probabilité de descendants $p$ et un nombre de générations $n$, retourne une liste $L$ telle que $L[i]$ soit le nombre d'individus à la génération $i$ pour $i$ de $0$ à $n-1$."
   ]
  },
  {
   "cell_type": "code",
   "execution_count": 7,
   "metadata": {},
   "outputs": [
    {
     "name": "stdout",
     "output_type": "stream",
     "text": [
      "[60, 66, 61, 43, 44, 42, 30, 26, 23, 20]\n"
     ]
    }
   ],
   "source": [
    "\n",
    "def population_n_generations(Z0,p,n):\n",
    "    \"\"\"\n",
    "     int*dict[int:float]*int->list[int]\n",
    "     ...\n",
    "    \"\"\"\n",
    "    #L:list[int]\n",
    "    L=[]\n",
    "    #i:int\n",
    "    Z = Z0\n",
    "    for i in range(0,n):\n",
    "        Z = update_population(Z,p)\n",
    "        L.append(Z)\n",
    "    return L\n",
    "\n",
    "#test pour 10 générations, population initiale 20 individus\n",
    "Z0 = 70\n",
    "n = 10\n",
    "print(population_n_generations(Z0,p,n))"
   ]
  },
  {
   "cell_type": "markdown",
   "metadata": {},
   "source": [
    "À présent, visualisons l'évolution de cette population. Vous pouvez changer $n$, $Z_0$ et $p$."
   ]
  },
  {
   "cell_type": "code",
   "execution_count": 8,
   "metadata": {},
   "outputs": [
    {
     "data": {
      "image/png": "[encoded data removed]",
      "text/plain": [
       "<Figure size 432x288 with 1 Axes>"
      ]
     },
     "metadata": {},
     "output_type": "display_data"
    }
   ],
   "source": [
    "n = 300\n",
    "Z0 = 40\n",
    "p = {0 : 0.4,\n",
    "     1 : 0.3,\n",
    "     2 : 0.2,\n",
    "     3 : 0.1}\n",
    "np.testing.assert_almost_equal(sum(p.values()),1)\n",
    "\n",
    "def plot_population(L):\n",
    "    '''\n",
    "    ??-> None\n",
    "    Visualise the evolution of the population in 'L'\n",
    "    '''\n",
    "    plt.figure()\n",
    "    plt.plot(L)\n",
    "    plt.ylabel(\"Taille Population\")# compléter ici\n",
    "    plt.xlabel(\"Génération\")\n",
    "    plt.show()\n",
    "    return\n",
    "\n",
    "    \n",
    "L=population_n_generations(Z0,p,n)\n",
    "plot_population(L)"
   ]
  },
  {
   "cell_type": "markdown",
   "metadata": {},
   "source": [
    "**Question 1.3** : Pour la capacité de reproduction $p$ donnée en exemple, observez-vous toujours une extinction de la population ?  Si c'est le cas, déterminez combien de générations sont nécessaires *en moyenne* avant que la population ne s'éteigne ?"
   ]
  },
  {
   "cell_type": "markdown",
   "metadata": {},
   "source": [
    "On appelle espérance d'une variable discrète $X$ : $\\mathbb{E}[X] = \\sum_k p_kk$"
   ]
  },
  {
   "cell_type": "markdown",
   "metadata": {},
   "source": [
    "**Question 1.4**: Compléter la fonction \"esperance\" ci-dessous permettant de calculer l'espérance d'une variable discrète $X$."
   ]
  },
  {
   "cell_type": "code",
   "execution_count": 9,
   "metadata": {},
   "outputs": [],
   "source": [
    "def esperance(p):\n",
    "    \"\"\"\n",
    "    dict[int:float]->float\n",
    "    ...\n",
    "    \"\"\"\n",
    "    e=0\n",
    "    for a,b in p.items():\n",
    "        e=e+(a*b)\n",
    "    \n",
    "    return e\n"
   ]
  },
  {
   "cell_type": "markdown",
   "metadata": {},
   "source": [
    "**Question 1.5**: Prenez à présent une capacité de reproduction dont l'espérance est 1.5 (testez que c'est bien le cas à l'aide de votre fonction précédente), et reproduisez l'expérience de la question 1.3. "
   ]
  },
  {
   "cell_type": "code",
   "execution_count": 10,
   "metadata": {},
   "outputs": [
    {
     "data": {
      "text/plain": [
       "2.9"
      ]
     },
     "execution_count": 10,
     "metadata": {},
     "output_type": "execute_result"
    }
   ],
   "source": [
    "p={0 : 0.4,\n",
    "   1 : 0.7,\n",
    "   2 : 0.1,\n",
    "   10 : 0.2}\n",
    "esperance(p)\n"
   ]
  },
  {
   "cell_type": "markdown",
   "metadata": {},
   "source": [
    "**Question 1.6** : Jouer sur le paramètre $e = \\mathbb{E}[X]$ et déterminer une valeure qui semble jouer un rôle critique dans le fait que la population va s'éteindre ou pas."
   ]
  },
  {
   "cell_type": "markdown",
   "metadata": {},
   "source": [
    "**Question 1.7** : Que se passe-t-il lorsque $Z_0$ et $n$ sont grands ?"
   ]
  },
  {
   "cell_type": "markdown",
   "metadata": {},
   "source": [
    "# 2. Island Model"
   ]
  },
  {
   "cell_type": "markdown",
   "metadata": {},
   "source": [
    "Dans cette seconde partie, le but est d'analyser la répartition et la dissémination des allèles au sein d'une population, répartie dans différentes zones géographiques, tout en prenant en compte les migrations.  \n",
    "\n",
    "**Rappel :** Un allèle est une version variable d'un même gène. En général, il existe deux allèles pour chaque gène. Par exemple : si nous possèdons l'allèle brun nous avons les cheveux bruns, si nous ne l'avons pas nous avons les cheveux blonds. (extrême simplification, ne pas répéter à un biologiste).\n",
    "\n",
    "Imaginons trois iles distinctes $A$, $B$ et $C$, sur chaque île réside une population distincte. Dans chaque population nous constatons une proportion différente de personne possédant un certain allèle. La distribution de cet allèle est notée par : $p_i$ pour $i\\in \\{A,B,C\\}$.\n"
   ]
  },
  {
   "cell_type": "markdown",
   "metadata": {},
   "source": [
    "![Island Model](Island_Model.png \"Island_Model\")"
   ]
  },
  {
   "cell_type": "markdown",
   "metadata": {},
   "source": [
    "Par exemple : $p_A$ représente le pourcentage de la population de l'ile $A$ ayant les cheveux bruns.  \n",
    "\n",
    "**Hypothèse 1:** La population globale $Z$ est considérée comme fixe et équirépartie entre les trois îles, chaque île comporte donc $Z/3$ individus. \n",
    "La population étant considérée comme stable, chaque individu laisse place à un seul individu à la génération suivante. Dans un premier temps nous ignorons donc le renouvelement de la population.  \n",
    "\n",
    "Nous observons une migration d'une **fraction** $m$ d'une île à une autre au fil des générations, celle-ci est cependant équilibrée, à double sens, le nombre d'invidus par île ne varie donc pas. Par exmple, pour $m=0.1$, à chaque génération $10\\%$ de la population va migrer de chaque île vers les autres. Cette fraction ne peut donc pas excéder $0.5$ (dans ce cas la totalité de la population migre de chaque île). \n",
    "\n",
    "Dans cette partie, nous chercherons à répondre à la question suivante : Comment les migrations impactent la distribution d'un allèle au sein des 3 îles ?\n"
   ]
  },
  {
   "cell_type": "markdown",
   "metadata": {},
   "source": [
    "Modélisons l'évolution de la proportion de la population possédant notre allèle (les cheveux bruns) au sein de chaque île. Notons par $p_{A,n}$ la distribution de notre allèle dans l'ile $A$ à la génération $n$.  \n",
    "\n",
    "On a $p_{A,n+1} = \\frac{p_{A,n}\\frac{Z}{3}(1 - 2m) + p_{B,n}\\frac{Z}{3}m + p_{C,n}\\frac{Z}{3}m}{\\frac{Z}{3}}$  \n",
    "\n",
    "et donc $p_{A,n+1} = p_{A,n}(1 - 2m) + p_{B,n}m + p_{C,n}m$."
   ]
  },
  {
   "cell_type": "markdown",
   "metadata": {},
   "source": [
    "**Question 2.1 :** Expliquer cette formule. Quant est-il pour $p_{B,n+1}$ et $p_{C,n+1}$ ?"
   ]
  },
  {
   "cell_type": "markdown",
   "metadata": {},
   "source": [
    "Rep 2.1 : PA,n+1 représente la proportion de gens ayant l'allèle en question qui sont resté sur l'île A.\n",
    "    PB,n+1=PB,n(1-2m)+PA,nm+PC,nm\n",
    "    PC,n+1=PC,n(1-2m)+PA,nm+PC,nm\n",
    "    "
   ]
  },
  {
   "cell_type": "code",
   "execution_count": 11,
   "metadata": {},
   "outputs": [],
   "source": [
    "# Nous utiliserons les paramètres suivants.\n",
    "\n",
    "m = 0.01 # coefficient de migration\n",
    "\n",
    "p = {'A' : 0.5,\n",
    "    'B' : 0.2,\n",
    "    'C' : 0.8} # Initial probability to have brown hair"
   ]
  },
  {
   "cell_type": "markdown",
   "metadata": {},
   "source": [
    "**Question 2.2 :** Corriger la fonction *update_genetics* ci-dessous qui prend en entrée un dictionaire $p$ (représentant la proportion d'individus ayant les cheveux bruns dans chacune des trois îles à un instant donné), une fraction de migration $m$ et retourne la proportion d'individus ayant les cheveux bruns dans chacune des trois îles à l'instant suivant sous la forme d'un dictionaire."
   ]
  },
  {
   "cell_type": "code",
   "execution_count": 12,
   "metadata": {},
   "outputs": [
    {
     "name": "stdout",
     "output_type": "stream",
     "text": [
      "{'A': 0.5, 'C': 0.791, 'B': 0.20900000000000002}\n"
     ]
    }
   ],
   "source": [
    "def update_genetics(p,m):\n",
    "    '''\n",
    "Z=56\n",
    "p={0 : 0.5,\n",
    "   1 : 0.2,\n",
    "   2 : 0.2,\n",
    "   3 : 0.1}\n",
    "print(update_population(Z,p))\n",
    "\n",
    "\n",
    "    dict[str:float]*float->dict[str:float]\n",
    "    Update the population's genetics \n",
    "    '''\n",
    "    p_new={}\n",
    "    p_new['A'] = p['A']*(1-2*m)+p['B']*m+p['C']*m\n",
    "    p_new['B'] = p['B']*(1-2*m)+p['A']*m+p['C']*m\n",
    "    p_new['C'] = p['C']*(1-2*m)+p['B']*m+p['A']*m\n",
    "    return p_new\n",
    "\n",
    "m = 0.01 \n",
    "\n",
    "p = {'A' : 0.5,\n",
    "    'B' : 0.2,\n",
    "    'C' : 0.8} \n",
    "print (update_genetics(p,m))\n"
   ]
  },
  {
   "cell_type": "markdown",
   "metadata": {},
   "source": [
    "**Question 2.3 :** Compléter la signature et la description de la fonction *genetics_n_migrations* suivante."
   ]
  },
  {
   "cell_type": "code",
   "execution_count": 13,
   "metadata": {},
   "outputs": [
    {
     "name": "stdout",
     "output_type": "stream",
     "text": [
      "[[0.5, 0.2, 0.8], [0.5, 0.20900000000000002, 0.791], [0.5, 0.21773, 0.78227], [0.5, 0.22619809999999999, 0.7738019], [0.5, 0.234412157, 0.765587843], [0.5, 0.24237979229000003, 0.75762020771], [0.5, 0.25010839852130007, 0.7498916014787], [0.5, 0.2576051465656611, 0.742394853434339], [0.5, 0.26487699216869126, 0.7351230078313088], [0.49999999999999994, 0.2719306824036305, 0.7280693175963695], [0.49999999999999994, 0.27877276193152156, 0.7212272380684784], [0.49999999999999994, 0.2854095790735759, 0.7145904209264241], [0.49999999999999994, 0.29184729170136864, 0.7081527082986314], [0.49999999999999994, 0.2980918729503276, 0.7019081270496724], [0.49999999999999994, 0.3041491167618177, 0.6958508832381822], [0.49999999999999994, 0.3100246432589632, 0.6899753567410368], [0.4999999999999999, 0.31572390396119426, 0.6842760960388058], [0.4999999999999999, 0.3212521868423584, 0.6787478131576417], [0.4999999999999999, 0.3266146212370877, 0.6733853787629124], [0.4999999999999999, 0.3318161825999751, 0.668183817400025], [0.4999999999999999, 0.33686169712197583, 0.6631383028780242], [0.4999999999999999, 0.34175584620831656, 0.6582441537916834], [0.4999999999999999, 0.34650317082206705, 0.653496829177933], [0.4999999999999999, 0.35110807569740504, 0.6488919243025949], [0.4999999999999999, 0.3555748334264829, 0.644425166573517], [0.49999999999999983, 0.35990758842368836, 0.6400924115763115], [0.4999999999999998, 0.3641103607709777, 0.6358896392290222], [0.4999999999999997, 0.36818704994784834, 0.6318129500521515], [0.4999999999999997, 0.3721414384494129, 0.627858561550587], [0.4999999999999997, 0.3759771952959305, 0.6240228047040693], [0.4999999999999997, 0.3796978794370526, 0.6203021205629472], [0.4999999999999997, 0.38330694305394103, 0.6166930569460588], [0.4999999999999997, 0.38680773476232283, 0.613192265237677], [0.4999999999999997, 0.39020350271945314, 0.6097964972805466], [0.4999999999999997, 0.39349739763786956, 0.6065026023621303], [0.4999999999999997, 0.39669247570873345, 0.6033075242912663], [0.4999999999999997, 0.39979170143747145, 0.6002082985625283], [0.4999999999999997, 0.4027979503943473, 0.5972020496056525], [0.4999999999999997, 0.4057140118825169, 0.5942859881174829], [0.4999999999999997, 0.4085425915260414, 0.5914574084739584], [0.4999999999999997, 0.41128631378026015, 0.5887136862197396], [0.4999999999999997, 0.41394772436685234, 0.5860522756331474], [0.4999999999999997, 0.41652929263584676, 0.583470707364153], [0.4999999999999997, 0.41903341385677134, 0.5809665861432284], [0.4999999999999997, 0.42146241144106816, 0.5785375885589316], [0.4999999999999997, 0.4238185390978361, 0.5761814609021636], [0.4999999999999997, 0.42610398292490104, 0.5738960170750986], [0.4999999999999997, 0.428320863437154, 0.5716791365628456], [0.4999999999999997, 0.4304712375340394, 0.5695287624659603], [0.4999999999999997, 0.4325571004080182, 0.5674428995919815], [0.4999999999999997, 0.43458038739577765, 0.565419612604222], [0.4999999999999997, 0.43654297577390433, 0.5634570242260953], [0.4999999999999997, 0.4384466865006872, 0.5615533134993125], [0.4999999999999997, 0.4402932859056666, 0.559706714094333], [0.4999999999999997, 0.4420844873284966, 0.5579155126715031], [0.4999999999999997, 0.44382195270864166, 0.556178047291358], [0.49999999999999967, 0.4455072941273824, 0.5544927058726173], [0.49999999999999967, 0.44714207530356087, 0.5528579246964388], [0.4999999999999996, 0.448727813044454, 0.5512721869555457], [0.4999999999999996, 0.4502659786531204, 0.5497340213468793], [0.4999999999999996, 0.4517579992935268, 0.5482420007064729], [0.4999999999999996, 0.45320525931472094, 0.5467947406852787], [0.4999999999999996, 0.45460910153527934, 0.5453908984647203], [0.4999999999999996, 0.45597082848922094, 0.5440291715107787], [0.4999999999999996, 0.4572917036345443, 0.5427082963654553], [0.4999999999999996, 0.458572952525508, 0.5414270474744916], [0.4999999999999996, 0.4598157639497428, 0.5401842360502568], [0.4999999999999996, 0.4610212910312505, 0.5389787089687491], [0.4999999999999996, 0.462190652300313, 0.5378093476996866], [0.4999999999999996, 0.4633249327313036, 0.536675067268696], [0.49999999999999956, 0.46442518474936445, 0.5355748152506351], [0.4999999999999995, 0.4654924292068835, 0.5345075707931161], [0.49999999999999944, 0.46652765633067694, 0.5334723436693225], [0.49999999999999944, 0.4675318266407566, 0.5324681733592428], [0.4999999999999994, 0.46850587184153386, 0.5314941281584655], [0.4999999999999994, 0.46945069568628783, 0.5305493043137115], [0.49999999999999933, 0.4703671748156992, 0.5296328251843002], [0.49999999999999933, 0.4712561595712282, 0.5287438404287712], [0.4999999999999993, 0.4721184747840913, 0.5278815252159081], [0.4999999999999992, 0.47295492054056854, 0.5270450794594309], [0.4999999999999992, 0.4737662729243515, 0.526233727075648], [0.4999999999999992, 0.4745532847366209, 0.5254467152633785], [0.4999999999999992, 0.4753166861945223, 0.5246833138054772], [0.4999999999999992, 0.4760571856086866, 0.5239428143913128], [0.4999999999999992, 0.47677547004042603, 0.5232245299595735], [0.4999999999999992, 0.47747220593921325, 0.5225277940607862], [0.49999999999999917, 0.4781480397610368, 0.5218519602389626], [0.49999999999999917, 0.4788035985682057, 0.5211964014317938], [0.49999999999999917, 0.47943949061115954, 0.5205605093888399], [0.49999999999999917, 0.4800563058928247, 0.5199436941071747], [0.4999999999999991, 0.48065461671603993, 0.5193453832839594], [0.4999999999999991, 0.48123497821455874, 0.5187650217854406], [0.49999999999999906, 0.48179792886812195, 0.5182020711318774], [0.49999999999999906, 0.4823439910020783, 0.5176560089979211], [0.499999999999999, 0.4828736712720159, 0.5171263287279834], [0.499999999999999, 0.48338746113385545, 0.5166125388661438], [0.499999999999999, 0.4838858372998398, 0.5161141627001594], [0.499999999999999, 0.4843692621808446, 0.5156307378191546], [0.499999999999999, 0.48483818431541925, 0.5151618156845799], [0.49999999999999895, 0.48529303878595664, 0.5147069612140425]]\n"
     ]
    }
   ],
   "source": [
    "def genetics_n_migrations(p,m,n):\n",
    "    '''\n",
    "    dict[str:float]*float*int->list[list[float]]\n",
    "    Update the population's genetics for n migration\n",
    "    '''\n",
    "    keys=[\"A\",\"B\",\"C\"] \n",
    "    M = []\n",
    "    M.append([p[k] for k in keys])\n",
    "    for i in range(1,n):\n",
    "        p = update_genetics(p,m)\n",
    "        M.append([p[k] for k in keys])\n",
    "    return M\n",
    "m = 0.01 \n",
    "\n",
    "p = {'A' : 0.5,\n",
    "    'B' : 0.2,\n",
    "    'C' : 0.8} \n",
    "n = 100\n",
    "print (genetics_n_migrations(p,m,n))"
   ]
  },
  {
   "cell_type": "markdown",
   "metadata": {},
   "source": [
    "A présent visualisons la fréquence de l'allèle au cours du temps."
   ]
  },
  {
   "cell_type": "code",
   "execution_count": 29,
   "metadata": {
    "scrolled": true
   },
   "outputs": [
    {
     "data": {
      "image/png": "[encoded data removed]",
      "text/plain": [
       "<Figure size 432x288 with 1 Axes>"
      ]
     },
     "metadata": {},
     "output_type": "display_data"
    },
    {
     "name": "stdout",
     "output_type": "stream",
     "text": [
      "None\n"
     ]
    }
   ],
   "source": [
    "p = {'A' : 0.0,\n",
    "    'B' : 1.0,\n",
    "    'C' : 1.0}\n",
    "\n",
    "m = 0.04 # Ratio of the population that migrate every generation\n",
    "\n",
    "n = 300\n",
    "\n",
    "M = genetics_n_migrations(p,m,n)\n",
    "\n",
    "def plot_genetics(M,p):\n",
    "    plt.figure()\n",
    "    plt.plot(M)\n",
    "    plt.legend([\"Island \"+i for i in p])\n",
    "    plt.xlabel(\"Génération\")\n",
    "    plt.ylabel(\"Fréquence allèle dans population\")\n",
    "    plt.show()\n",
    "    return\n",
    "print(plot_genetics(M,p))\n"
   ]
  },
  {
   "cell_type": "markdown",
   "metadata": {},
   "source": [
    "**Questions 2.4:** Modifier $p_A,p_B,p_C$ ainsi que le taux de migration $m$ et décrire les différents phénomènes observés."
   ]
  },
  {
   "cell_type": "markdown",
   "metadata": {},
   "source": [
    "Rep 2.4 : Pour PA,PB à 0.0 et PC à 1.0 les courbes de A et de B sont confondues.Pour PA PB ET PC à 0.5 toutes les courbes sont horizontales et confondues en 0.\n",
    "    0.5. Dans tout les cas les trois courbes convergent vers le meme taux( l'espérence)."
   ]
  },
  {
   "cell_type": "code",
   "execution_count": 30,
   "metadata": {},
   "outputs": [
    {
     "ename": "SyntaxError",
     "evalue": "invalid syntax (<ipython-input-30-2bf095c1868a>, line 5)",
     "output_type": "error",
     "traceback": [
      "\u001b[0;36m  File \u001b[0;32m\"<ipython-input-30-2bf095c1868a>\"\u001b[0;36m, line \u001b[0;32m5\u001b[0m\n\u001b[0;31m    m = 0.01\u001b[0m\n\u001b[0m      ^\u001b[0m\n\u001b[0;31mSyntaxError\u001b[0m\u001b[0;31m:\u001b[0m invalid syntax\n"
     ]
    }
   ],
   "source": [
    "p = {'A' : 0.5,\n",
    "    'B' : 0.4,\n",
    "    'C' : 0.8,\n",
    "\n",
    "m = 0.01 \n",
    "\n",
    "n = 300\n",
    "\n",
    "M = genetics_n_migrations(p,m,n)\n"
   ]
  },
  {
   "cell_type": "markdown",
   "metadata": {},
   "source": [
    "On peut complexifier la modélisation en faisant varier le nombre d'îles ou bien les taux de migrations entre îles : $m$ $\\rightarrow$ $m_{A,B}, m_{B,C}, m_{C,A}$."
   ]
  },
  {
   "cell_type": "markdown",
   "metadata": {},
   "source": [
    "### Variante  1 : Nombre d'îles variable :"
   ]
  },
  {
   "cell_type": "markdown",
   "metadata": {},
   "source": [
    "**Question 2.5 (facultatif) :** Adapter les fonctions précédentes pour un nombre d'îles arbitraire. "
   ]
  },
  {
   "cell_type": "markdown",
   "metadata": {},
   "source": [
    "### Variante 2 : Taux de migrations différents entre îles  :"
   ]
  },
  {
   "cell_type": "markdown",
   "metadata": {},
   "source": [
    "Considérons tout d'abord : $m_{A,B} = m_{B,A}$, $m_{A,C} = m_{C,A}$ et $m_{C,B} = m_{B,C}$."
   ]
  },
  {
   "cell_type": "markdown",
   "metadata": {},
   "source": [
    "**Question 2.6 :** Retrouver la formule suivante et adapter les fonctions précédentes. $p_{A,n+1} = p_{A,n}(1-m_{A,B}-m_{A,C})+p_{B,n}m_{B,A}+p_{C,n}m_{C,A}$"
   ]
  },
  {
   "cell_type": "code",
   "execution_count": 31,
   "metadata": {},
   "outputs": [],
   "source": [
    "#Nous utiliserons les paramètres suivants.\n",
    "\n",
    "p = {'A' : 0.5,generation_variante2(p,m)\n",
    "    'B' : 0.4,\n",
    "    'C' : 0.8} # Initial probability to have red hair \n",
    "\n",
    "m = {('A','B') : 0.2, # Migration ratio from island 'A' to island 'B'\n",
    "     ('B','A') : 0.2,\n",
    "     ('A','C') : 0.05,\n",
    "     ('C','A') : 0.05,\n",
    "     ('B','C') : 0.01,\n",
    "     ('C','B') : 0.01}"
   ]
  },
  {
   "cell_type": "code",
   "execution_count": 33,
   "metadata": {},
   "outputs": [
    {
     "name": "stdout",
     "output_type": "stream",
     "text": [
      "{'A': 0.495, 'C': 0.781, 'B': 0.42400000000000004}\n"
     ]
    }
   ],
   "source": [
    "def generation_variante2(p,m):\n",
    "    '''\n",
    "    dict[str:float]*dict[(str:str):float]->dict[str:float]\n",
    "    Update the population's genetics\n",
    "    '''\n",
    "    p_new={}\n",
    "    p_new['A'] = p['A']*(1-m[('A','B')]-m[('A','C') ])+p['B']*m[('B','A')]+p['C']*m[('C','A')]\n",
    "    p_new['B'] = p['B']*(1-m[('B','A') ]-m[('B','C')])+p['A']*m[('A','B')]+p['C']*m[('C','B') ]\n",
    "    p_new['C'] = p['C']*(1-m[('C','A') ]-m[('C','B')])+p['B']*m[('B','C')]+p['A']*m[('A','C')]\n",
    "    return p_new\n",
    "\n",
    "    p = {'A' : 0.5,\n",
    "    'B' : 0.4,\n",
    "    'C' : 0.8}\n",
    "\n",
    "m = {('A','B') : 0.2, \n",
    "     ('B','A') : 0.2,\n",
    "     ('A','C') : 0.05,\n",
    "     ('C','A') : 0.05,\n",
    "     ('B','C') : 0.01,\n",
    "     ('C','B') : 0.01}\n",
    "print(generation_variante2(p,m))\n",
    "    "
   ]
  },
  {
   "cell_type": "code",
   "execution_count": 39,
   "metadata": {},
   "outputs": [
    {
     "name": "stdout",
     "output_type": "stream",
     "text": [
      "[[0.5, 0.4, 0.8], [0.495, 0.42400000000000004, 0.781], [0.4951, 0.44177, 0.7631300000000001], [0.4978355, 0.45564960000000004, 0.7465149], [0.5018322900000001, 0.46699543300000007, 0.7311722769999999], [0.5063319179500001, 0.4766045728400001, 0.7170635092099997], [0.510923028491, 0.48495463122570004, 0.7041223402832997], [0.515389314627555, 0.4923399877693361, 0.6922706976031086], [0.5196235184046889, 0.4989491602393176, 0.6814273213559932], [0.5235788369191798, 0.5049088134835588, 0.6715123495972611]]\n"
     ]
    }
   ],
   "source": [
    "def genetics_n_migrations2(p,m,n):\n",
    "    '''\n",
    "    dict[str:float]*dict[(str:str):float]*int->list[list[float]]\n",
    "    Update the population's genetics for n migration\n",
    "    '''\n",
    "    keys=[\"A\",\"B\",\"C\"] \n",
    "    M = []\n",
    "    M.append([p[k] for k in keys])\n",
    "    for i in range(1,n):\n",
    "        p = generation_variante2(p,m)\n",
    "        M.append([p[k] for k in keys])\n",
    "    return M\n",
    "    p = {'A' : 0.5,\n",
    "    'B' : 0.4,\n",
    "    'C' : 0.8}\n",
    "\n",
    "m = {('A','B') : 0.2, \n",
    "     ('B','A') : 0.2,\n",
    "     ('A','C') : 0.05,\n",
    "     ('C','A') : 0.05,\n",
    "     ('B','C') : 0.01,\n",
    "     ('C','B') : 0.01}\n",
    "n=10\n",
    "print (genetics_n_migrations2(p,m,n))\n"
   ]
  },
  {
   "cell_type": "code",
   "execution_count": 40,
   "metadata": {},
   "outputs": [
    {
     "data": {
      "image/png": "[encoded data removed]",
      "text/plain": [
       "<Figure size 432x288 with 1 Axes>"
      ]
     },
     "metadata": {},
     "output_type": "display_data"
    },
    {
     "name": "stdout",
     "output_type": "stream",
     "text": [
      "None\n"
     ]
    }
   ],
   "source": [
    "M = genetics_n_migrations2(p,m,n)\n",
    "print(plot_genetics(M,p))"
   ]
  },
  {
   "cell_type": "code",
   "execution_count": null,
   "metadata": {},
   "outputs": [],
   "source": [
    "0   "
   ]
  },
  {
   "cell_type": "markdown",
   "metadata": {},
   "source": [
    "**Question 2.7**: Que se passe-t-il si le taux de migrations d'un île à une autre n'est plus symétrique : $m_{A,B} \\neq m_{B,A}$ ? Est-ce que notre notre calcul est toujours correct ? (Indice : cf hypothèse 1.)"
   ]
  },
  {
   "cell_type": "markdown",
   "metadata": {},
   "source": [
    "# 3. Galton-Watson et Migrations"
   ]
  },
  {
   "cell_type": "markdown",
   "metadata": {},
   "source": [
    "Dans cette partie nous nous intéressons aux nombres d'individus sur chaque île sans tenir compte de leurs patrimoines génétiques. Nous supposons que la population de chaque île suit un modele de Gatson-Watson. Prenons en compte les migrations et adaptons notre modèle en conséquent.\n",
    "\n",
    "Notons $Z_{A,n},Z_{B,n},Z_{C,n}$ les populations des îles $A$, $B$ et $C$ à la génération $n$. \n",
    "\n",
    "La formule suivante peut sembler compliquée, mais s'interprète assez facilement :\n",
    "- $Z_{A,n+1} = \\sum_{i=1}^{Z_{A,n}'}X$ où $Z_{A,n}' = Z_{A,n}(1-m_{A,B}-m_{A,C})+Z_{B,n}m_{B,A}+Z_{C,n}m_{C,A}$.\n",
    "\n",
    "$Z_{A,n}'$ est la population de l'île $A$ à la generation $n$ **après** avoir pris en compte les migrations.\n",
    "\n",
    "**Question 3.1 :** Retrouver les formules pour $Z_{B,n+1}$ ainsi que pour $Z_{C,n+1}$."
   ]
  },
  {
   "cell_type": "markdown",
   "metadata": {},
   "source": [
    "Modélisons l'évolution de cet archipel au fil des générations."
   ]
  },
  {
   "cell_type": "code",
   "execution_count": null,
   "metadata": {},
   "outputs": [],
   "source": [
    "#Nous utiliserons les paramètres suivants.\n",
    "\n",
    "p = {0 : 0.4,\n",
    "     1 : 0.3,\n",
    "     2 : 0.2,\n",
    "     3 : 0.1} # Number of descendants\n",
    "np.testing.assert_almost_equal(sum(p.values()),1)\n",
    "\n",
    "P = {'A' : p,\n",
    "     'B' : p,\n",
    "     'C' : p} # Galton Watson parameter on each island\n",
    "\n",
    "Z0 = {'A' : 40,\n",
    "     'B' : 1000,\n",
    "     'C' : 400} #Initial Population\n",
    "\n",
    "M = {('A','B') : 0.02, # Migration ratio from island 'A' to island 'B'\n",
    "     ('B','A') : 0.02,\n",
    "     ('A','C') : 0.05,\n",
    "     ('C','A') : 0.05,\n",
    "     ('B','C') : 0.01,\n",
    "     ('C','B') : 0.01}\n",
    "\n",
    "n = 10 #Number of generations"
   ]
  },
  {
   "cell_type": "markdown",
   "metadata": {},
   "source": [
    "**Question 3.2 :** Compléter la fonction ci-dessous."
   ]
  },
  {
   "cell_type": "code",
   "execution_count": null,
   "metadata": {},
   "outputs": [],
   "source": [
    "def update_populations_with_migrations(Z,P,M):\n",
    "    '''\n",
    "    ???->???\n",
    "    ???\n",
    "    '''\n",
    "    Z_new = {}\n",
    "    # A FAIRE\n",
    "    return Z_new"
   ]
  },
  {
   "cell_type": "markdown",
   "metadata": {},
   "source": [
    "**Question 3.3 :** Visualiser le nombre d'individu sur chaque île."
   ]
  },
  {
   "cell_type": "markdown",
   "metadata": {},
   "source": [
    "**Questions 3.4 :**\n",
    "- Faire varier les populations initiales $Z_0$.\n",
    "- Modifier les paramètres de migrations pour éteindre la population d'une seule île.\n",
    "- Faire survivre la population d'une seule île."
   ]
  },
  {
   "cell_type": "markdown",
   "metadata": {},
   "source": [
    "### Visualisation Dynamique (Facultatif)"
   ]
  },
  {
   "cell_type": "markdown",
   "metadata": {},
   "source": [
    "Avec cette visualisation il est très simple d'observer les phénomènes de cas (sur/sous)-critiques, en faisant varier ne serait-ce que très légérement l'espérance."
   ]
  },
  {
   "cell_type": "code",
   "execution_count": null,
   "metadata": {},
   "outputs": [],
   "source": [
    "import pandas as pd\n",
    "def animated_populations(Z,P,M,n):\n",
    "    n_island = len(Z)\n",
    "    pop_dict = {0:Z}\n",
    "    for i in range(n):\n",
    "        Z = update_populations_with_migrations(Z,P,M)\n",
    "        pop_dict[i]=Z.copy()\n",
    "    pop_df = pd.DataFrame.from_dict(pop_dict,orient='index')\n",
    "    fig = plt.figure()\n",
    "    cmap = plt.get_cmap('tab10')\n",
    "    barplot = plt.bar(range(n_island),pop_df.max(),color=[cmap(i) for i in range(n_island)])\n",
    "    def animate(i):\n",
    "        populations = pop_df.iloc[i,:]\n",
    "        for j,b in enumerate(barplot):\n",
    "            b.set_height(populations[j])\n",
    "    plt.tick_params(top=False,right=False)\n",
    "    plt.xticks(range(n_island),[\"Island \"+str(i) for i in Z.keys()])\n",
    "    plt.ylabel(\"Population\")\n",
    "    for spine in plt.gca().spines.values():\n",
    "        spine.set_visible(False)\n",
    "    anim = animation.FuncAnimation(fig,animate,blit=False,\n",
    "                                  frames = n,interval=300,repeat=False)\n",
    "    #anim.save('mymovie.mp4',writer=animation.FFMpegWriter(fps=10))\n",
    "    return anim"
   ]
  },
  {
   "cell_type": "code",
   "execution_count": null,
   "metadata": {},
   "outputs": [],
   "source": [
    "p = {0 : 0.4,\n",
    "     1 : 0.3,\n",
    "     2 : 0.2,\n",
    "     3 : 0.1}\n",
    "np.testing.assert_almost_equal(sum(p.values()),1)\n",
    "P = {'A' : p,\n",
    "     'B' : p,\n",
    "     'C' : p}\n",
    "Z0 = {'A' : 400,\n",
    "     'B' : 2000,\n",
    "     'C' : 400}\n",
    "M = {('A','B') : 0.05, # Migration ratio from island 'A' to island 'B'\n",
    "     ('B','A') : 0.05,\n",
    "     ('A','C') : 0.05,\n",
    "     ('C','A') : 0.05,\n",
    "     ('B','C') : 0.01,\n",
    "     ('C','B') : 0.01}\n",
    "n = 400\n",
    "animated_populations(Z0,P,M,n)"
   ]
  },
  {
   "cell_type": "markdown",
   "metadata": {},
   "source": [
    "# 4. Galton-Island"
   ]
  },
  {
   "cell_type": "markdown",
   "metadata": {},
   "source": [
    "Retournons à notre Island Model, maintenant que nous avons pris en compte l'évolution de la population sur chaque île, celle-ci n'étant plus constante, nous allons pouvoir réaliser un modèle un peu plus réaliste, nous oublions l'**hypothèse 1**."
   ]
  },
  {
   "cell_type": "markdown",
   "metadata": {},
   "source": [
    "**Question 4.1 :** Retrouver la formule générale suivante :\n",
    "\n",
    "$p_{A,n+1} = \\frac{\\displaystyle p_{A,n}Z_{A,n}(1-m_{A,B}-m_{A,C})+p_{B,n}Z_{B,n}m_{B,A}+p_{C,n}Z_{C,n}m_{C,n}}{\\displaystyle Z_{A,n}(1-m_{A,B}-m_{A,C})+Z_{B,n}m_{B,A}+Z_{C,n}m_{C,n}}$\n",
    "\n",
    "\n",
    "Adapter les fonctions précédentes dans les box ci dessous."
   ]
  },
  {
   "cell_type": "code",
   "execution_count": null,
   "metadata": {},
   "outputs": [],
   "source": [
    "def update_genetics_with_migrations(Z,p_genetics,m,verbose=False):\n",
    "    '''\n",
    "    Update the genetics of the population 'C', with parameter in 'p_galton' and 'p_genetics',\n",
    "    according to migrations 'm' \n",
    "    '''\n",
    "    # A FAIRE\n",
    "    return"
   ]
  },
  {
   "cell_type": "code",
   "execution_count": null,
   "metadata": {},
   "outputs": [],
   "source": [
    "def galton_island(Z,p_galton,p_genetics,m,n):\n",
    "    '''\n",
    "    Combinaison des deux modèles \n",
    "    '''\n",
    "    # A FAIRE\n",
    "    return "
   ]
  },
  {
   "cell_type": "code",
   "execution_count": null,
   "metadata": {},
   "outputs": [],
   "source": [
    "Z = {'A' : 500,\n",
    "     'B' : 10000,\n",
    "     'C' : 50} # Initial population\n",
    "p = {0 : 0.3,\n",
    "     1 : 0.5,\n",
    "     2 : 0.1,\n",
    "     3 : 0.1}\n",
    "p_galton = {'A' : p,\n",
    "            'B' : p,\n",
    "            'C' : p}\n",
    "p_genetics = {'A' : 0.05,\n",
    "              'B' : 0.1,\n",
    "              'C' : 0.05} # Initial proportion of the population that can survive the disease. \n",
    "m = {('A','B') : 0.02, # Migration ratio from island 'A' to island 'B'\n",
    "     ('B','A') : 0.02,\n",
    "     ('A','C') : 0.05,\n",
    "     ('C','A') : 0.02,\n",
    "     ('B','C') : 0.04,\n",
    "     ('C','B') : 0.02}\n",
    "n = 500\n",
    "galton_island(Z,p_galton,p_genetics,m,n)"
   ]
  },
  {
   "cell_type": "markdown",
   "metadata": {},
   "source": [
    "**Questions 4.2 :** Observer l'évolution de la proportion de la population possédant l'allèle au sein de chaque île."
   ]
  },
  {
   "cell_type": "markdown",
   "metadata": {},
   "source": [
    "# 5. L'épidémie"
   ]
  },
  {
   "cell_type": "markdown",
   "metadata": {},
   "source": [
    "Une épidémie se propage sur l'archipel, seul les individus possèdant la version du gène étudié (les cheveux bruns) peuvent y survivre. (Un truc très sérieux, genre peste bubonique ou ebola 2.0). Cette épidémie survient lors de la génération arbitraire : *n_epi*.\n"
   ]
  },
  {
   "cell_type": "markdown",
   "metadata": {},
   "source": [
    "**Question 5.1 :** Rajoutez dans la fonction *galton_island* précédente une condition permettant de modéliser ce phénomène. \n",
    "Indice : Rajouter un test correpondant à *n_epi* et ajuster la population en fonction de $p_{A,n}$, $p_{B,n}$ et $p_{C,n}$. "
   ]
  },
  {
   "cell_type": "code",
   "execution_count": null,
   "metadata": {},
   "outputs": [],
   "source": [
    "def galton_island_with_disease(Z,p_galton,p_genetics,m,n,n_epi):\n",
    "    '''\n",
    "    Combinaison des deux modèles + maladie à la génération 'n_epi'\n",
    "    '''\n",
    "    # A FAIRE\n",
    "    return "
   ]
  },
  {
   "cell_type": "code",
   "execution_count": null,
   "metadata": {},
   "outputs": [],
   "source": [
    "Z = {'A' : 500,\n",
    "     'B' : 10000,\n",
    "     'C' : 500} # Initial population\n",
    "p = {0 : 0.3,\n",
    "     1 : 0.5,\n",
    "     2 : 0.1,\n",
    "     3 : 0.1}\n",
    "p_galton = {'A' : p,\n",
    "            'B' : p,\n",
    "            'C' : p}\n",
    "p_genetics = {'A' : 0.05,\n",
    "              'B' : 0.1,\n",
    "              'C' : 0.05} # Initial proportion of the population that can survive the disease. \n",
    "m = {('A','B') : 0.02, # Migration ratio from island 'A' to island 'B'\n",
    "     ('B','A') : 0.02,\n",
    "     ('A','C') : 0.05,\n",
    "     ('C','A') : 0.02,\n",
    "     ('B','C') : 0.04,\n",
    "     ('C','B') : 0.02}\n",
    "n_epi = 50\n",
    "n = 200"
   ]
  },
  {
   "cell_type": "code",
   "execution_count": null,
   "metadata": {},
   "outputs": [],
   "source": [
    "galton_island_with_disease(Z,p_galton,p_genetics,m,n,n_epi)"
   ]
  },
  {
   "cell_type": "markdown",
   "metadata": {},
   "source": [
    "**Questions 5.2 :**\n",
    "  - Faire varier les paramètres des 2 modèles afin de faire survivre les populations des trois iles.\n",
    "  - Faire varier les paramètres afin de faire survivre seulement les habitants des îles $A$ et $B$.\n",
    "  - Faire varier les paramètres afin de faire survivre seulement les habitant de l'île $C$."
   ]
  }
 ],
 "metadata": {
  "kernelspec": {
   "display_name": "Python 3",
   "language": "python",
   "name": "python3"
  },
  "language_info": {
   "codemirror_mode": {
    "name": "ipython",
    "version": 3
   },
   "file_extension": ".py",
   "mimetype": "text/x-python",
   "name": "python",
   "nbconvert_exporter": "python",
   "pygments_lexer": "ipython3",
   "version": "3.5.3"
  }
 },
 "nbformat": 4,
 "nbformat_minor": 2
}
